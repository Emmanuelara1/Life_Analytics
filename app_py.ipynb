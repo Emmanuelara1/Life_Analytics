{
  "nbformat": 4,
  "nbformat_minor": 0,
  "metadata": {
    "colab": {
      "provenance": [],
      "authorship_tag": "ABX9TyOKUjSfTs0HVX5MKtSpAUE9",
      "include_colab_link": true
    },
    "kernelspec": {
      "name": "python3",
      "display_name": "Python 3"
    },
    "language_info": {
      "name": "python"
    }
  },
  "cells": [
    {
      "cell_type": "markdown",
      "metadata": {
        "id": "view-in-github",
        "colab_type": "text"
      },
      "source": [
        "<a href=\"https://colab.research.google.com/github/Emmanuelara1/Life_Analytics/blob/main/app_py.ipynb\" target=\"_parent\"><img src=\"https://colab.research.google.com/assets/colab-badge.svg\" alt=\"Open In Colab\"/></a>"
      ]
    },
    {
      "cell_type": "code",
      "source": [
        "from flask import Flask, render_template, request, redirect, url_for, jsonify\n",
        "import os\n",
        "from werkzeug.utils import secure_filename\n",
        "from datetime import datetime, timedelta\n",
        "import jwt\n",
        "from bio_image_analysis import process_image, save_result, display_image\n",
        "from functools import wraps"
      ],
      "metadata": {
        "id": "bxLBZw338B07"
      },
      "execution_count": null,
      "outputs": []
    },
    {
      "cell_type": "code",
      "execution_count": null,
      "metadata": {
        "id": "nNzzr5Tb7tYm"
      },
      "outputs": [],
      "source": [
        "SECRET_KEY = 'your_jwt_secret_key'\n",
        "EXPIRATION_TIME = timedelta(hours=1)\n",
        "\n",
        "app = Flask(__name__)\n",
        "app.config['UPLOAD_FOLDER'] = 'static/uploads/'\n",
        "app.config['ALLOWED_EXTENSIONS'] = {'png', 'jpg', 'jpeg', 'gif'}\n",
        "\n",
        "# Simulate a user database (you can integrate with a real database)\n",
        "users = {\"admin\": {\"password\": \"adminpassword\", \"email\": \"admin@example.com\"}}\n",
        "\n",
        "# JWT authentication decorator\n",
        "def token_required(f):\n",
        "    @wraps(f)\n",
        "    def decorated_function(*args, **kwargs):\n",
        "        token = request.args.get('token')  # Retrieve token from URL args\n",
        "        if not token:\n",
        "            return jsonify({'message': 'Token is missing!'}), 403\n",
        "        try:\n",
        "            data = jwt.decode(token, SECRET_KEY, algorithms=[\"HS256\"])\n",
        "            current_user = users.get(data['username'])\n",
        "        except Exception as e:\n",
        "            return jsonify({'message': 'Token is invalid!'}), 403\n",
        "        return f(current_user, *args, **kwargs)\n",
        "    return decorated_function\n",
        "\n",
        "def allowed_file(filename):\n",
        "    return '.' in filename and filename.rsplit('.', 1)[1].lower() in app.config['ALLOWED_EXTENSIONS']\n",
        "\n",
        "@app.route('/login', methods=['POST'])\n",
        "def login():\n",
        "    auth = request.json\n",
        "    username = auth.get('username')\n",
        "    password = auth.get('password')\n",
        "\n",
        "    if username in users and users[username]['password'] == password:\n",
        "        # Generate JWT token\n",
        "        token = jwt.encode({'username': username, 'exp': datetime.utcnow() + EXPIRATION_TIME}, SECRET_KEY, algorithm=\"HS256\")\n",
        "        return jsonify({'token': token})\n",
        "    else:\n",
        "        return jsonify({'message': 'Invalid credentials'}), 401\n",
        "\n",
        "@app.route('/upload', methods=['POST'])\n",
        "@token_required\n",
        "def upload_file(current_user):\n",
        "    file = request.files['file']\n",
        "    if file and allowed_file(file.filename):\n",
        "        filename = secure_filename(file.filename)\n",
        "        filepath = os.path.join(app.config['UPLOAD_FOLDER'], filename)\n",
        "        file.save(filepath)\n",
        "\n",
        "        # Process the image and classify\n",
        "        preprocessed_image, segmented_image, label, prediction = process_image(filepath)\n",
        "\n",
        "        # Save processed images\n",
        "        processed_image_path = os.path.join(app.config['UPLOAD_FOLDER'], 'processed_' + filename)\n",
        "        segmented_image_path = os.path.join(app.config['UPLOAD_FOLDER'], 'segmented_' + filename)\n",
        "        save_result(preprocessed_image, processed_image_path)\n",
        "        save_result(segmented_image, segmented_image_path)\n",
        "\n",
        "        return jsonify({\n",
        "            'processed_image': processed_image_path,\n",
        "            'segmented_image': segmented_image_path,\n",
        "            'label': label,\n",
        "            'prediction': prediction.tolist()\n",
        "        })\n",
        "    return jsonify({'message': 'Invalid file type'}), 400\n",
        "\n",
        "if __name__ == '__main__':\n",
        "    app.run(debug=True)\n"
      ]
    }
  ]
}