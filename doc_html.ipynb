{
  "nbformat": 4,
  "nbformat_minor": 0,
  "metadata": {
    "colab": {
      "provenance": [],
      "authorship_tag": "ABX9TyPOQj/9jC3uBfAgAMMxKMOn",
      "include_colab_link": true
    },
    "kernelspec": {
      "name": "python3",
      "display_name": "Python 3"
    },
    "language_info": {
      "name": "python"
    }
  },
  "cells": [
    {
      "cell_type": "markdown",
      "metadata": {
        "id": "view-in-github",
        "colab_type": "text"
      },
      "source": [
        "<a href=\"https://colab.research.google.com/github/Emmanuelara1/Life_Analytics/blob/main/doc_html.ipynb\" target=\"_parent\"><img src=\"https://colab.research.google.com/assets/colab-badge.svg\" alt=\"Open In Colab\"/></a>"
      ]
    },
    {
      "cell_type": "code",
      "execution_count": null,
      "metadata": {
        "id": "2qeCmAGV89TU"
      },
      "outputs": [],
      "source": [
        "<!DOCTYPE html>\n",
        "<html lang=\"en\">\n",
        "<head>\n",
        "    <meta charset=\"UTF-8\">\n",
        "    <meta name=\"viewport\" content=\"width=device-width, initial-scale=1.0\">\n",
        "    <title>Bio Image Analysis</title>\n",
        "    <link rel=\"stylesheet\" href=\"{{ url_for('static', filename='style.css') }}\">\n",
        "    <script src=\"https://cdn.plot.ly/plotly-latest.min.js\"></script>\n",
        "</head>\n",
        "<body>\n",
        "    <h1>Welcome, {{ username }}! Upload a Bio Image for Analysis</h1>\n",
        "    <form action=\"/upload\" method=\"POST\" enctype=\"multipart/form-data\">\n",
        "        <input type=\"file\" name=\"file\" accept=\"image/*\" required>\n",
        "        <button type=\"submit\">Upload</button>\n",
        "    </form>\n",
        "\n",
        "    <h2>Uploaded Image Analysis</h2>\n",
        "    <div id=\"image-container\"></div>\n",
        "\n",
        "    <script>\n",
        "        // Implementing Plotly for image zooming and panning\n",
        "        var imgPath = \"{{ processed_image_path }}\";\n",
        "        Plotly.d3.image(imgPath, function(image) {\n",
        "            var data = [{\n",
        "                type: 'image',\n",
        "                z: image,\n",
        "                hoverinfo: 'none',\n",
        "                showscale: false\n",
        "            }];\n",
        "            var layout = {\n",
        "                width: 800,\n",
        "                height: 800,\n",
        "                xaxis: {showgrid: false, zeroline: false},\n",
        "                yaxis: {showgrid: false, zeroline: false}\n",
        "            };\n",
        "            Plotly.newPlot('image-container', data, layout);\n",
        "        });\n",
        "    </script>\n",
        "</body>\n",
        "</html>\n"
      ]
    }
  ]
}