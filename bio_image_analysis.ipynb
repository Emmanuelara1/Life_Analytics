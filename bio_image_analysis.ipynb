{
  "nbformat": 4,
  "nbformat_minor": 0,
  "metadata": {
    "colab": {
      "provenance": [],
      "authorship_tag": "ABX9TyOiFMUZ1Np9L/Xub+Vherg8",
      "include_colab_link": true
    },
    "kernelspec": {
      "name": "python3",
      "display_name": "Python 3"
    },
    "language_info": {
      "name": "python"
    }
  },
  "cells": [
    {
      "cell_type": "markdown",
      "metadata": {
        "id": "view-in-github",
        "colab_type": "text"
      },
      "source": [
        "<a href=\"https://colab.research.google.com/github/Emmanuelara1/Life_Analytics/blob/main/bio_image_analysis.ipynb\" target=\"_parent\"><img src=\"https://colab.research.google.com/assets/colab-badge.svg\" alt=\"Open In Colab\"/></a>"
      ]
    },
    {
      "cell_type": "code",
      "source": [
        "import cv2\n",
        "import numpy as np\n",
        "from skimage import measure, filters\n",
        "import matplotlib.pyplot as plt\n",
        "from tensorflow.keras.models import load_model\n",
        "from skimage import exposure\n",
        "from scipy import ndimage\n"
      ],
      "metadata": {
        "id": "E7-zsQVx4Vok"
      },
      "execution_count": null,
      "outputs": []
    },
    {
      "cell_type": "code",
      "source": [
        "\n",
        "model = load_model('path_to_model.h5')\n",
        "\n",
        "def preprocess_image(image_path):\n",
        "    img = cv2.imread(image_path, cv2.IMREAD_GRAYSCALE)\n",
        "    img_filtered = cv2.bilateralFilter(img, 9, 75, 75)\n",
        "\n",
        "\n",
        "    _, img_thresh = cv2.threshold(img_filtered, 0, 255, cv2.THRESH_BINARY + cv2.THRESH_OTSU)\n",
        "\n",
        "\n",
        "    img_normalized = exposure.equalize_hist(img_thresh)\n",
        "\n",
        "    return img_normalized\n",
        "\n",
        "def segment_image(image_path):\n",
        "    img = cv2.imread(image_path, cv2.IMREAD_GRAYSCALE)\n",
        "\n",
        "    img_thresh = cv2.adaptiveThreshold(img, 255, cv2.ADAPTIVE_THRESH_MEAN_C, cv2.THRESH_BINARY, 11, 2)\n",
        "\n",
        "    kernel = np.ones((5,5), np.uint8)\n",
        "    img_dilated = cv2.dilate(img_thresh, kernel, iterations=2)\n",
        "    img_eroded = cv2.erode(img_dilated, kernel, iterations=1)\n",
        "\n",
        "    return img_eroded\n",
        "\n",
        "def classify_image(image_path):\n",
        "    img = cv2.imread(image_path)\n",
        "    img_resized = cv2.resize(img, (224, 224))\n",
        "    img_array = np.expand_dims(img_resized, axis=0) / 255.0\n",
        "\n",
        "\n",
        "    prediction = model.predict(img_array)\n",
        "    label = np.argmax(prediction, axis=1)\n",
        "\n",
        "    return label, prediction\n",
        "\n",
        "def process_image(image_path):\n",
        "    preprocessed_image = preprocess_image(image_path)\n",
        "    segmented_image = segment_image(image_path)\n",
        "    label, prediction = classify_image(image_path)\n",
        "\n",
        "    return preprocessed_image, segmented_image, label, prediction\n",
        "\n",
        "def save_result(image, output_path):\n",
        "\n",
        "    cv2.imwrite(output_path, image)\n",
        "\n",
        "def display_image(image):\n",
        "    plt.imshow(cv2.cvtColor(image, cv2.COLOR_BGR2RGB))\n",
        "    plt.axis('off')\n",
        "    plt.show()\n"
      ],
      "metadata": {
        "id": "PTugbICP2d7w"
      },
      "execution_count": null,
      "outputs": []
    }
  ]
}